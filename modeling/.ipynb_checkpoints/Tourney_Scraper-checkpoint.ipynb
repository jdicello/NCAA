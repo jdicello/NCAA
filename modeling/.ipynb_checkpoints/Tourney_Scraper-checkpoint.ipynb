{
 "cells": [
  {
   "cell_type": "code",
   "execution_count": 12,
   "metadata": {
    "collapsed": true
   },
   "outputs": [],
   "source": [
    "from bs4 import BeautifulSoup\n",
    "\n",
    "import urllib2\n",
    "import pandas as pd"
   ]
  },
  {
   "cell_type": "code",
   "execution_count": 13,
   "metadata": {
    "collapsed": true
   },
   "outputs": [],
   "source": [
    "def findTournamentGames():\n",
    "    url_bracket = 'http://espn.go.com/mens-college-basketball/tournament/bracket'\n",
    "    page_bracket = urllib2.urlopen(url_bracket)\n",
    "    soup_bracket = BeautifulSoup(page_bracket.read(), \"lxml\")\n",
    "    \n",
    "    id_bracket = soup_bracket.find(\"div\", {\"id\": \"bracket\"})\n",
    "    \n",
    "    \n",
    "    tourney_games=[]\n",
    "    for div_region in id_bracket.findAll(\"div\", {\"class\": \"region\"}):\n",
    "        for dl in div_region.findAll(\"dl\"):\n",
    "            try:\n",
    "                rnd = dl['class'][1][5:6]\n",
    "                pointer = dl.find(\"dd\", {\"class\": \"pointer\"})\n",
    "                game_id = pointer['onclick'][11:20]\n",
    "                tourney_games.append([rnd,game_id])\n",
    "            except:\n",
    "                continue\n",
    "    \n",
    "    return tourney_games"
   ]
  },
  {
   "cell_type": "code",
   "execution_count": 14,
   "metadata": {
    "collapsed": true
   },
   "outputs": [],
   "source": [
    "def parseBoxScore(rnd, game_id):\n",
    "    \n",
    "    # debug\n",
    "#    game_id = 400872131\n",
    "#    team_id1 = 2393\n",
    "#    team_id2 = 127\n",
    "    away_team = ''\n",
    "    home_team = ''\n",
    "    try:            \n",
    "        url_box = 'http://espn.go.com/mens-college-basketball/boxscore?gameId=' + str(game_id)\n",
    "        page_box = urllib2.urlopen(url_box)\n",
    "        soup_box = BeautifulSoup(page_box.read())\n",
    "    except:\n",
    "        print \"Could not parse: \" + url_box\n",
    "    \n",
    "    try:\n",
    "        away_team = str(soup_box.findAll(\"div\", {\"class\":\"team away\"})[0].findAll(\"span\", {\"class\":\"long-name\"})[0].string)\n",
    "        away_href_str = str(soup_box.findAll(\"div\", {\"class\":\"team away\"})[0].a['href'])\n",
    "        away_id = away_href_str[away_href_str.rfind('/',0)+1:]\n",
    "    except:\n",
    "        print \"Error parsing GameID: \" + str(game_id)\n",
    "        if away_team == '':\n",
    "            away_team = 'error'\n",
    "        away_id = -1\n",
    "    \n",
    "    try:\n",
    "        home_team = str(soup_box.findAll(\"div\", {\"class\":\"team home\"})[0].findAll(\"span\", {\"class\":\"long-name\"})[0].string)\n",
    "        home_href_str = str(soup_box.findAll(\"div\", {\"class\":\"team home\"})[0].a['href'])\n",
    "        home_id = home_href_str[home_href_str.rfind('/',0)+1:]\n",
    "    except:\n",
    "        print \"Error parsing GameID: \" + str(game_id)\n",
    "        if home_team == '':\n",
    "            home_team = 'error'\n",
    "        home_id = -1\n",
    "    \n",
    "    away = parseTeamBoxScore(soup_box, rnd, game_id, away_id, away_team, 'away', home_id, home_team)\n",
    "    home = parseTeamBoxScore(soup_box, rnd, game_id, home_id, home_team, 'home', away_id, away_team)\n",
    "\n",
    "    return pd.concat([away, home], ignore_index=True)"
   ]
  },
  {
   "cell_type": "code",
   "execution_count": 15,
   "metadata": {
    "collapsed": true
   },
   "outputs": [],
   "source": [
    "def parseTeamBoxScore(soup_box, rnd, game_id, team_id, team_name, home_away_indictor, opp_id, opp_name):\n",
    "    header = 'rnd,game_id,team_id,team_name,home_away_indictor,opp_id,opp_name,player,MIN,FGM,FGA,TREY_M,TREY_A,FTM,FTA,OREB,DREB,REB,AST,STL,BLK,TO,PF,PTS'\n",
    "    stats_df = pd.DataFrame(columns=header.split(','))\n",
    "    i=0\n",
    "    \n",
    "    if home_away_indictor == 'home':\n",
    "        box = soup_box.find(\"div\", {\"class\":\"col column-two gamepackage-home-wrap\"})\n",
    "    else:\n",
    "        box = soup_box.find(\"div\", {\"class\":\"col column-one gamepackage-away-wrap\"})\n",
    "    \n",
    "    try:\n",
    "        for data_row in box.findAll(\"tbody\"):\n",
    "            try:\n",
    "                for row in data_row.findAll(\"tr\"):\n",
    "                    data = str(rnd) + ',' + str(game_id) + ',' + str(team_id) + ',' + team_name + ',' + home_away_indictor + ',' + str(opp_id) + ',' + opp_name + ','\n",
    "                    for col in row.findAll(\"td\"):\n",
    "                        try:\n",
    "                            if col.a != None:\n",
    "                                if col.a.string.isalpha():\n",
    "                                    data += str(col.a.string).replace('-',',') + ','\n",
    "                                else:\n",
    "                                    data += col.a.string.replace('-',',') + ','\n",
    "                            elif col.string != None:\n",
    "                                data += col.string.replace('--','0').replace('-',',') + ','\n",
    "                        except:\n",
    "                            continue\n",
    "                            \n",
    "                    data = data.rstrip(',')\n",
    "                    if len(data.split(',')) == len(header.split(',')):\n",
    "                        stats_df.loc[i] = [c for c in data.split(',')]\n",
    "                        i += 1\n",
    "            except:\n",
    "                continue\n",
    "    except:\n",
    "        print 'no box score'\n",
    "        \n",
    "    return stats_df"
   ]
  },
  {
   "cell_type": "code",
   "execution_count": 16,
   "metadata": {
    "collapsed": false
   },
   "outputs": [
    {
     "name": "stdout",
     "output_type": "stream",
     "text": [
      "parsing round: 1, game_id: 400871129\n",
      "parsing round: 1, game_id: 400871250\n",
      "parsing round: 1, game_id: 400871270\n",
      "parsing round: 1, game_id: 400871271\n",
      "parsing round: 1, game_id: 400871273\n",
      "parsing round: 1, game_id: 400871272\n",
      "parsing round: 1, game_id: 400871252\n",
      "parsing round: 1, game_id: 400871251\n",
      "parsing round: 2, game_id: 400872131\n",
      "parsing round: 2, game_id: 400872218\n",
      "parsing round: 2, game_id: 400872163\n",
      "parsing round: 2, game_id: 400872214\n",
      "parsing round: 1, game_id: 400871253\n",
      "parsing round: 1, game_id: 400871275\n",
      "parsing round: 1, game_id: 400871276\n",
      "parsing round: 1, game_id: 400871255\n",
      "parsing round: 1, game_id: 400871257\n",
      "parsing round: 1, game_id: 400871278\n",
      "parsing round: 1, game_id: 400871277\n",
      "parsing round: 1, game_id: 400871256\n",
      "parsing round: 2, game_id: 400872255\n",
      "parsing round: 2, game_id: 400872082\n",
      "parsing round: 2, game_id: 400872229\n",
      "parsing round: 2, game_id: 400872224\n",
      "parsing round: 1, game_id: 400871258\n",
      "parsing round: 1, game_id: 400871280\n",
      "parsing round: 1, game_id: 400871259\n",
      "parsing round: 1, game_id: 400871260\n",
      "parsing round: 1, game_id: 400871262\n",
      "parsing round: 1, game_id: 400871261\n",
      "parsing round: 1, game_id: 400871282\n",
      "parsing round: 1, game_id: 400871281\n",
      "parsing round: 2, game_id: 400872165\n",
      "parsing round: 2, game_id: 400872166\n",
      "parsing round: 2, game_id: 400872251\n",
      "parsing round: 2, game_id: 400872259\n",
      "parsing round: 1, game_id: 400871284\n",
      "parsing round: 1, game_id: 400871263\n",
      "parsing round: 1, game_id: 400871264\n",
      "parsing round: 1, game_id: 400871285\n",
      "parsing round: 1, game_id: 400871287\n",
      "parsing round: 1, game_id: 400871266\n",
      "parsing round: 1, game_id: 400871265\n",
      "parsing round: 1, game_id: 400871286\n",
      "parsing round: 2, game_id: 400872129\n",
      "parsing round: 2, game_id: 400872132\n",
      "parsing round: 2, game_id: 400872167\n",
      "parsing round: 2, game_id: 400872223\n"
     ]
    }
   ],
   "source": [
    "header = 'rnd,game_id,team_id,team_name,home_away_indictor,opp_id,opp_name,player,MIN,FGM,FGA,TREY_M,TREY_A,FTM,FTA,OREB,DREB,REB,AST,STL,BLK,TO,PF,PTS'\n",
    "s_df = pd.DataFrame(columns=header.split(','))\n",
    "\n",
    "for rnd, game_id in findTournamentGames():\n",
    "    print 'parsing round: ' + str(rnd) + ', game_id: ' + game_id\n",
    "    s_df = pd.concat([s_df, parseBoxScore(rnd, game_id)], ignore_index=True)"
   ]
  },
  {
   "cell_type": "code",
   "execution_count": 22,
   "metadata": {
    "collapsed": true
   },
   "outputs": [],
   "source": [
    "new_s_df = pd.concat([s_df.player + ' - ' + s_df.team_name, s_df], axis=1)\n",
    "new_header = 'player-team,rnd,game_id,team_id,team_name,home_away_indictor,opp_id,opp_name,player,MIN,FGM,FGA,TREY_M,TREY_A,FTM,FTA,OREB,DREB,REB,AST,STL,BLK,TO,PF,PTS'\n",
    "new_s_df.columns = new_header.split(',')"
   ]
  },
  {
   "cell_type": "code",
   "execution_count": 23,
   "metadata": {
    "collapsed": true
   },
   "outputs": [],
   "source": [
    "output = new_s_df[new_s_df.rnd=='1'][['player-team','PTS']]\n",
    "output.columns = ['player-team', 'R1']\n",
    "r2 = new_s_df[new_s_df.rnd=='2'][['player-team','PTS']]\n",
    "r2.columns = ['player-team', 'R2']\n",
    "r3 = new_s_df[new_s_df.rnd=='3'][['player-team','PTS']]\n",
    "r3.columns = ['player-team', 'R3']\n",
    "r4 = new_s_df[new_s_df.rnd=='4'][['player-team','PTS']]\n",
    "r4.columns = ['player-team', 'R4']\n",
    "r5 = new_s_df[new_s_df.rnd=='5'][['player-team','PTS']]\n",
    "r5.columns = ['player-team', 'R5']\n",
    "r6 = new_s_df[new_s_df.rnd=='6'][['player-team','PTS']]\n",
    "r6.columns = ['player-team', 'R6']"
   ]
  },
  {
   "cell_type": "code",
   "execution_count": 24,
   "metadata": {
    "collapsed": true
   },
   "outputs": [],
   "source": [
    "output.set_index('player-team', inplace=True)\n",
    "r2.set_index('player-team', inplace=True)\n",
    "r3.set_index('player-team', inplace=True)\n",
    "r4.set_index('player-team', inplace=True)\n",
    "r5.set_index('player-team', inplace=True)\n",
    "r6.set_index('player-team', inplace=True)"
   ]
  },
  {
   "cell_type": "code",
   "execution_count": 25,
   "metadata": {
    "collapsed": true
   },
   "outputs": [],
   "source": [
    "if r2.size > 0 :\n",
    "    output = pd.merge(output,r2,how='left', left_index=True, right_index=True, suffixes=('_R1', '_R2'))\n",
    "    \n",
    "if r3.size > 0 :\n",
    "    output = pd.merge(output,r3,how='left', left_index=True, right_index=True, suffixes=('_R2', '_R3'))\n",
    "\n",
    "if r4.size > 0 :\n",
    "    output = pd.merge(output,r4,how='left', left_index=True, right_index=True, suffixes=('_R3', '_R4'))\n",
    "\n",
    "if r5.size > 0 :\n",
    "    output = pd.merge(output,r5,how='left', left_index=True, right_index=True, suffixes=('_R4', '_R5'))\n",
    "\n",
    "if r6.size > 0 :\n",
    "    output = pd.merge(output,r6,how='left', left_index=True, right_index=True, suffixes=('_R5', '_R6'))"
   ]
  },
  {
   "cell_type": "code",
   "execution_count": 26,
   "metadata": {
    "collapsed": true
   },
   "outputs": [],
   "source": [
    "output.to_csv(\"../output/tournament_stats.csv\")"
   ]
  },
  {
   "cell_type": "code",
   "execution_count": null,
   "metadata": {
    "collapsed": true
   },
   "outputs": [],
   "source": []
  }
 ],
 "metadata": {
  "kernelspec": {
   "display_name": "Python 2",
   "language": "python",
   "name": "python2"
  },
  "language_info": {
   "codemirror_mode": {
    "name": "ipython",
    "version": 2
   },
   "file_extension": ".py",
   "mimetype": "text/x-python",
   "name": "python",
   "nbconvert_exporter": "python",
   "pygments_lexer": "ipython2",
   "version": "2.7.11"
  }
 },
 "nbformat": 4,
 "nbformat_minor": 0
}
